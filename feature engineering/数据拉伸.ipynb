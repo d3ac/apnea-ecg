{
 "cells": [
  {
   "cell_type": "code",
   "execution_count": 1,
   "metadata": {},
   "outputs": [],
   "source": [
    "import numpy as np\n",
    "import torch\n",
    "import pandas as pd\n",
    "import os"
   ]
  },
  {
   "cell_type": "markdown",
   "metadata": {},
   "source": [
    "# 统计数据"
   ]
  },
  {
   "cell_type": "code",
   "execution_count": 2,
   "metadata": {},
   "outputs": [],
   "source": [
    "def dropnan(a):\n",
    "    b = []\n",
    "    for i in range(len(a)):\n",
    "        if pd.isna(a[i]):\n",
    "            return np.array(b)\n",
    "        b.append(a[i])\n",
    "    return np.array(b)\n",
    "\n",
    "def count_execl(filename):\n",
    "    data = pd.read_excel(filename, header=None)\n",
    "    Len = []\n",
    "    for i in range(len(data.values)):\n",
    "        Len.append(len(dropnan(data.iloc[i,:].values))-1)\n",
    "    return Len\n",
    "\n",
    "def count_folder(foldername):\n",
    "    data = []\n",
    "    for filename in os.listdir(foldername):\n",
    "        excelname = os.path.join(foldername, filename)\n",
    "        Len = np.array(count_execl(excelname))\n",
    "        Len = np.sort(Len)\n",
    "        temp = [filename,'%.2f' %Len.mean(), np.median(Len), Len[0], Len[len(Len)-1], Len[len(Len)//20]]\n",
    "        data.append(temp)\n",
    "    return data"
   ]
  },
  {
   "cell_type": "markdown",
   "metadata": {},
   "source": [
    "# 数据切割拉伸"
   ]
  },
  {
   "cell_type": "code",
   "execution_count": 3,
   "metadata": {},
   "outputs": [],
   "source": [
    "from scipy.interpolate import interp1d"
   ]
  },
  {
   "cell_type": "code",
   "execution_count": 4,
   "metadata": {},
   "outputs": [],
   "source": [
    "def zscore(X):\n",
    "    return (X - X.mean()) / X.std()\n",
    "\n",
    "def interpolate_excel(filename, stretch, is_norm):\n",
    "    data = pd.read_excel(filename, header=None)\n",
    "    new_features = []\n",
    "    label = []\n",
    "    for i in range(len(data.values)):\n",
    "        row_data = dropnan(data.iloc[i,1:].values)\n",
    "        fx = interp1d(np.arange(len(row_data)), row_data, kind='cubic')\n",
    "        temp_features = fx(np.linspace(0,len(row_data)-1, stretch))\n",
    "        new_features.append(temp_features)\n",
    "        label.append(data.iloc[i,0])\n",
    "    if is_norm:\n",
    "        return zscore(torch.tensor(new_features)), torch.tensor(label)\n",
    "    return torch.tensor(new_features), torch.tensor(label)\n",
    "\n",
    "def interpolate_folder(foldername, stretch, is_norm):\n",
    "    all_features, all_label = None, None\n",
    "    for filename in os.listdir(foldername):\n",
    "        excelname = os.path.join(foldername, filename)\n",
    "        feature, label = interpolate_excel(excelname, stretch, is_norm)\n",
    "\n",
    "        if all_features is None:\n",
    "            all_features = feature\n",
    "        else:\n",
    "            all_features = torch.cat((all_features, feature), dim=0)\n",
    "\n",
    "        if all_label is None:\n",
    "            all_label = label\n",
    "        else:\n",
    "            all_label = torch.cat((all_label, label), dim=0)\n",
    "    return all_features, all_label\n",
    "\n",
    "def save_tensor(foldername, stretch, is_norm):\n",
    "    f, l = interpolate_folder(foldername, stretch, is_norm)\n",
    "    f = pd.DataFrame(f.detach().numpy())\n",
    "    l = pd.DataFrame(l.detach().numpy())\n",
    "    f.to_csv(foldername+'_feature.csv', header=None, index=False)\n",
    "    l.to_csv(foldername+'_label.csv', header=None, index=False)"
   ]
  },
  {
   "cell_type": "code",
   "execution_count": 6,
   "metadata": {},
   "outputs": [],
   "source": [
    "save_tensor('../test', 64, True);"
   ]
  },
  {
   "cell_type": "code",
   "execution_count": null,
   "metadata": {},
   "outputs": [],
   "source": []
  }
 ],
 "metadata": {
  "kernelspec": {
   "display_name": "Python 3.9.13 64-bit",
   "language": "python",
   "name": "python3"
  },
  "language_info": {
   "codemirror_mode": {
    "name": "ipython",
    "version": 3
   },
   "file_extension": ".py",
   "mimetype": "text/x-python",
   "name": "python",
   "nbconvert_exporter": "python",
   "pygments_lexer": "ipython3",
   "version": "3.9.13"
  },
  "orig_nbformat": 4,
  "vscode": {
   "interpreter": {
    "hash": "81e75cef6ba1b10275bdce9a4ca9089c470de9a530eb43eaa03a6734d261d4ab"
   }
  }
 },
 "nbformat": 4,
 "nbformat_minor": 2
}
