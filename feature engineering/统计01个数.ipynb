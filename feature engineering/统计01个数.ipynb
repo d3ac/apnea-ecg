{
 "cells": [
  {
   "cell_type": "code",
   "execution_count": 1,
   "metadata": {},
   "outputs": [],
   "source": [
    "import os\n",
    "import pandas as pd\n",
    "import torch\n",
    "from torch.utils import data"
   ]
  },
  {
   "cell_type": "code",
   "execution_count": 2,
   "metadata": {},
   "outputs": [
    {
     "ename": "FileNotFoundError",
     "evalue": "[WinError 3] 系统找不到指定的路径。: 'train'",
     "output_type": "error",
     "traceback": [
      "\u001b[1;31m---------------------------------------------------------------------------\u001b[0m",
      "\u001b[1;31mFileNotFoundError\u001b[0m                         Traceback (most recent call last)",
      "\u001b[1;32mc:\\Users\\10485\\Desktop\\code\\feature engineering\\统计01个数.ipynb Cell 2\u001b[0m in \u001b[0;36m<cell line: 50>\u001b[1;34m()\u001b[0m\n\u001b[0;32m     <a href='vscode-notebook-cell:/c%3A/Users/10485/Desktop/code/feature%20engineering/%E7%BB%9F%E8%AE%A101%E4%B8%AA%E6%95%B0.ipynb#W1sZmlsZQ%3D%3D?line=46'>47</a>\u001b[0m     all_label \u001b[39m=\u001b[39m pd\u001b[39m.\u001b[39mDataFrame(all_label)\n\u001b[0;32m     <a href='vscode-notebook-cell:/c%3A/Users/10485/Desktop/code/feature%20engineering/%E7%BB%9F%E8%AE%A101%E4%B8%AA%E6%95%B0.ipynb#W1sZmlsZQ%3D%3D?line=47'>48</a>\u001b[0m     all_label\u001b[39m.\u001b[39mto_csv(foldername\u001b[39m+\u001b[39m\u001b[39m'\u001b[39m\u001b[39m_label.csv\u001b[39m\u001b[39m'\u001b[39m, header\u001b[39m=\u001b[39m\u001b[39mNone\u001b[39;00m, index\u001b[39m=\u001b[39m\u001b[39mFalse\u001b[39;00m)\n\u001b[1;32m---> <a href='vscode-notebook-cell:/c%3A/Users/10485/Desktop/code/feature%20engineering/%E7%BB%9F%E8%AE%A101%E4%B8%AA%E6%95%B0.ipynb#W1sZmlsZQ%3D%3D?line=49'>50</a>\u001b[0m read_to_csv(\u001b[39m'\u001b[39;49m\u001b[39mtrain\u001b[39;49m\u001b[39m'\u001b[39;49m)\n",
      "\u001b[1;32mc:\\Users\\10485\\Desktop\\code\\feature engineering\\统计01个数.ipynb Cell 2\u001b[0m in \u001b[0;36mread_to_csv\u001b[1;34m(foldername)\u001b[0m\n\u001b[0;32m     <a href='vscode-notebook-cell:/c%3A/Users/10485/Desktop/code/feature%20engineering/%E7%BB%9F%E8%AE%A101%E4%B8%AA%E6%95%B0.ipynb#W1sZmlsZQ%3D%3D?line=26'>27</a>\u001b[0m all_label \u001b[39m=\u001b[39m \u001b[39mNone\u001b[39;00m\n\u001b[0;32m     <a href='vscode-notebook-cell:/c%3A/Users/10485/Desktop/code/feature%20engineering/%E7%BB%9F%E8%AE%A101%E4%B8%AA%E6%95%B0.ipynb#W1sZmlsZQ%3D%3D?line=27'>28</a>\u001b[0m all_feature \u001b[39m=\u001b[39m \u001b[39mNone\u001b[39;00m\n\u001b[1;32m---> <a href='vscode-notebook-cell:/c%3A/Users/10485/Desktop/code/feature%20engineering/%E7%BB%9F%E8%AE%A101%E4%B8%AA%E6%95%B0.ipynb#W1sZmlsZQ%3D%3D?line=28'>29</a>\u001b[0m \u001b[39mfor\u001b[39;00m filename \u001b[39min\u001b[39;00m os\u001b[39m.\u001b[39;49mlistdir(foldername):\n\u001b[0;32m     <a href='vscode-notebook-cell:/c%3A/Users/10485/Desktop/code/feature%20engineering/%E7%BB%9F%E8%AE%A101%E4%B8%AA%E6%95%B0.ipynb#W1sZmlsZQ%3D%3D?line=29'>30</a>\u001b[0m     excelname \u001b[39m=\u001b[39m os\u001b[39m.\u001b[39mpath\u001b[39m.\u001b[39mjoin(foldername, filename)\n\u001b[0;32m     <a href='vscode-notebook-cell:/c%3A/Users/10485/Desktop/code/feature%20engineering/%E7%BB%9F%E8%AE%A101%E4%B8%AA%E6%95%B0.ipynb#W1sZmlsZQ%3D%3D?line=30'>31</a>\u001b[0m     file \u001b[39m=\u001b[39m pd\u001b[39m.\u001b[39mread_excel(excelname)\n",
      "\u001b[1;31mFileNotFoundError\u001b[0m: [WinError 3] 系统找不到指定的路径。: 'train'"
     ]
    }
   ],
   "source": [
    "def get_dataloader_workers():\n",
    "    return 4\n",
    "\n",
    "def load_array(data_arrays, bathch_size, istrain):\n",
    "    dataset = data.TensorDataset(*data_arrays)\n",
    "    return data.DataLoader(dataset, bathch_size, shuffle=istrain)\n",
    "\n",
    "def readfolder(foldername, batch_size, istrain):\n",
    "    all_label = None\n",
    "    all_feature = None\n",
    "    for filename in os.listdir(foldername):\n",
    "        excelname = os.path.join(foldername, filename)\n",
    "        file = pd.read_excel(excelname)\n",
    "        label = torch.tensor(file.iloc[:,0].values)\n",
    "        feature = torch.tensor(file.iloc[:,1:].values)\n",
    "        if all_label is None:\n",
    "            all_label = label\n",
    "        else:\n",
    "            all_label = torch.cat((all_label, label), dim=0)\n",
    "        if all_feature is None:\n",
    "            all_feature = feature\n",
    "        else:\n",
    "            all_feature = torch.cat((all_feature, feature), dim=0)\n",
    "    return load_array((all_feature, all_label), batch_size, istrain)\n",
    "\n",
    "def read_to_csv(foldername):\n",
    "    all_label = None\n",
    "    all_feature = None\n",
    "    for filename in os.listdir(foldername):\n",
    "        excelname = os.path.join(foldername, filename)\n",
    "        file = pd.read_excel(excelname)\n",
    "        label = torch.tensor(file.iloc[:,0].values)\n",
    "        feature = torch.tensor(file.iloc[:,1:].values)\n",
    "        if all_label is None:\n",
    "            all_label = label\n",
    "        else:\n",
    "            all_label = torch.cat((all_label, label), dim=0)\n",
    "        if all_feature is None:\n",
    "            all_feature = feature\n",
    "        else:\n",
    "            all_feature = torch.cat((all_feature, feature), dim=0)\n",
    "    all_feature = all_feature.detach().numpy()\n",
    "    all_feature = pd.DataFrame(all_feature)\n",
    "    all_feature.to_csv(foldername+'_feature.csv', header=None, index=False)\n",
    "    \n",
    "    all_label = all_label.detach().numpy()\n",
    "    all_label = pd.DataFrame(all_label)\n",
    "    all_label.to_csv(foldername+'_label.csv', header=None, index=False)\n",
    "\n",
    "read_to_csv('train')"
   ]
  },
  {
   "cell_type": "code",
   "execution_count": null,
   "metadata": {},
   "outputs": [],
   "source": [
    "def readfolder(foldername, batch_size, istrain):\n",
    "    all_label = None\n",
    "    all_feature = None\n",
    "    for filename in os.listdir(foldername):\n",
    "        excelname = os.path.join(foldername, filename)\n",
    "        file = pd.read_excel(excelname)\n",
    "        label = torch.tensor(file.iloc[:,0].values)\n",
    "        feature = torch.tensor(file.iloc[:,1:].values)\n",
    "        if all_label is None:\n",
    "            all_label = label\n",
    "        else:\n",
    "            all_label = torch.cat((all_label, label), dim=0)\n",
    "        if all_feature is None:\n",
    "            all_feature = feature\n",
    "        else:\n",
    "            all_feature = torch.cat((all_feature, feature), dim=0)\n",
    "    return load_array((all_feature, all_label), batch_size, istrain)"
   ]
  }
 ],
 "metadata": {
  "kernelspec": {
   "display_name": "Python 3.9.13 64-bit",
   "language": "python",
   "name": "python3"
  },
  "language_info": {
   "codemirror_mode": {
    "name": "ipython",
    "version": 3
   },
   "file_extension": ".py",
   "mimetype": "text/x-python",
   "name": "python",
   "nbconvert_exporter": "python",
   "pygments_lexer": "ipython3",
   "version": "3.9.13"
  },
  "orig_nbformat": 4,
  "vscode": {
   "interpreter": {
    "hash": "81e75cef6ba1b10275bdce9a4ca9089c470de9a530eb43eaa03a6734d261d4ab"
   }
  }
 },
 "nbformat": 4,
 "nbformat_minor": 2
}
