{
 "cells": [
  {
   "cell_type": "markdown",
   "metadata": {},
   "source": [
    "# 树模型"
   ]
  },
  {
   "cell_type": "code",
   "execution_count": 1,
   "metadata": {},
   "outputs": [],
   "source": [
    "import pandas as pd\n",
    "import numpy as np"
   ]
  },
  {
   "cell_type": "code",
   "execution_count": 2,
   "metadata": {},
   "outputs": [],
   "source": [
    "train_feature = pd.read_csv('train_feature.csv',header=None).values\n",
    "train_label = pd.read_csv('train_label.csv', header=None).values\n",
    "test_feature = pd.read_csv('test_feature.csv', header=None).values\n",
    "test_label = pd.read_csv('test_label.csv', header=None).values"
   ]
  },
  {
   "cell_type": "markdown",
   "metadata": {},
   "source": [
    "## XGBoost"
   ]
  },
  {
   "cell_type": "code",
   "execution_count": 3,
   "metadata": {},
   "outputs": [],
   "source": [
    "import xgboost\n",
    "from sklearn.metrics import accuracy_score"
   ]
  },
  {
   "cell_type": "code",
   "execution_count": 4,
   "metadata": {},
   "outputs": [
    {
     "name": "stdout",
     "output_type": "stream",
     "text": [
      "test accuracy : 0.72\n",
      "train accuracy : 1.00\n"
     ]
    }
   ],
   "source": [
    "model = xgboost.XGBClassifier(\n",
    "    max_depth = 15, # 最深深度\n",
    "    subsample = 0.7, # 随机采样\n",
    "    n_estimators = 100, # 基学习器个数\n",
    "    tree_method='gpu_hist',\n",
    "    gpu_id = 0\n",
    ")\n",
    "model.fit(train_feature, train_label)\n",
    "\n",
    "y_pred = model.predict(test_feature)\n",
    "predictions = [round(value) for value in y_pred]\n",
    "acc = accuracy_score(test_label, predictions)\n",
    "print(f'test accuracy : {acc:.2f}')\n",
    "\n",
    "y_pred = model.predict(train_feature)\n",
    "predictions = [round(value) for value in y_pred]\n",
    "acc = accuracy_score(train_label, predictions)\n",
    "print(f'train accuracy : {acc:.2f}')"
   ]
  },
  {
   "cell_type": "markdown",
   "metadata": {},
   "source": [
    "## RandomForest"
   ]
  },
  {
   "cell_type": "code",
   "execution_count": 5,
   "metadata": {},
   "outputs": [],
   "source": [
    "from sklearn.ensemble import RandomForestClassifier"
   ]
  },
  {
   "cell_type": "code",
   "execution_count": 6,
   "metadata": {},
   "outputs": [
    {
     "name": "stdout",
     "output_type": "stream",
     "text": [
      "test accuracy : 0.73\n",
      "train accuracy : 1.00\n"
     ]
    }
   ],
   "source": [
    "forest = RandomForestClassifier()\n",
    "forest.fit(train_feature, train_label.reshape(-1))\n",
    "\n",
    "y_pred = forest.predict(test_feature)\n",
    "predictions = [round(value) for value in y_pred]\n",
    "acc = accuracy_score(test_label, predictions)\n",
    "print(f'test accuracy : {acc:.2f}')\n",
    "\n",
    "y_pred = forest.predict(train_feature)\n",
    "predictions = [round(value) for value in y_pred]\n",
    "acc = accuracy_score(train_label, predictions)\n",
    "print(f'train accuracy : {acc:.2f}')"
   ]
  },
  {
   "cell_type": "code",
   "execution_count": null,
   "metadata": {},
   "outputs": [],
   "source": []
  }
 ],
 "metadata": {
  "kernelspec": {
   "display_name": "Python 3.9.13 64-bit",
   "language": "python",
   "name": "python3"
  },
  "language_info": {
   "codemirror_mode": {
    "name": "ipython",
    "version": 3
   },
   "file_extension": ".py",
   "mimetype": "text/x-python",
   "name": "python",
   "nbconvert_exporter": "python",
   "pygments_lexer": "ipython3",
   "version": "3.9.13"
  },
  "orig_nbformat": 4,
  "vscode": {
   "interpreter": {
    "hash": "81e75cef6ba1b10275bdce9a4ca9089c470de9a530eb43eaa03a6734d261d4ab"
   }
  }
 },
 "nbformat": 4,
 "nbformat_minor": 2
}
